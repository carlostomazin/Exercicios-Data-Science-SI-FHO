{
 "cells": [
  {
   "cell_type": "markdown",
   "id": "88104ef3-a77d-4154-b811-43ee3cfa0cc0",
   "metadata": {
    "tags": []
   },
   "source": [
    "### Instalando o pacote unrar para extrair arquivos rar no server"
   ]
  },
  {
   "cell_type": "code",
   "execution_count": 5,
   "id": "884af6f8-65d1-47c0-ba17-e7a16b06c918",
   "metadata": {
    "tags": []
   },
   "outputs": [
    {
     "name": "stdout",
     "output_type": "stream",
     "text": [
      "Hit:1 http://archive.ubuntu.com/ubuntu focal InRelease\n",
      "Hit:2 https://packages.microsoft.com/repos/microsoft-ubuntu-focal-prod focal InRelease\n",
      "Hit:3 https://dl.yarnpkg.com/debian stable InRelease                           \u001b[0m\n",
      "Hit:4 http://archive.ubuntu.com/ubuntu focal-updates InRelease                 \u001b[0m\n",
      "Hit:5 http://archive.ubuntu.com/ubuntu focal-backports InRelease               \u001b[0m\n",
      "Hit:6 https://repo.anaconda.com/pkgs/misc/debrepo/conda stable InRelease       \u001b[0m\n",
      "Hit:7 http://security.ubuntu.com/ubuntu focal-security InRelease       \u001b[0m    \u001b[33m\n",
      "Hit:8 https://packagecloud.io/github/git-lfs/ubuntu focal InRelease    \u001b[33m\u001b[33m\u001b[33m\u001b[33m\n",
      "Reading package lists... Done                                  \u001b[33m\n",
      "Building dependency tree       \n",
      "Reading state information... Done\n",
      "33 packages can be upgraded. Run 'apt list --upgradable' to see them.\n",
      "Reading package lists... Done\n",
      "Building dependency tree       \n",
      "Reading state information... Done\n",
      "unrar is already the newest version (1:5.6.6-2build1).\n",
      "The following packages were automatically installed and are no longer required:\n",
      "  aspnetcore-runtime-6.0 aspnetcore-targeting-pack-6.0 dotnet-apphost-pack-6.0\n",
      "  dotnet-host dotnet-hostfxr-6.0 dotnet-runtime-6.0 dotnet-runtime-deps-6.0\n",
      "  dotnet-targeting-pack-6.0 netstandard-targeting-pack-2.1\n",
      "Use 'sudo apt autoremove' to remove them.\n",
      "0 upgraded, 0 newly installed, 0 to remove and 33 not upgraded.\n"
     ]
    }
   ],
   "source": [
    "!sudo apt update && sudo apt install unrar -y"
   ]
  },
  {
   "cell_type": "markdown",
   "id": "8c0ade8a-7463-4e2a-a0eb-60a99d665edb",
   "metadata": {
    "tags": []
   },
   "source": [
    "### Instalando a biblioteca patool para extrair arquivos rar"
   ]
  },
  {
   "cell_type": "code",
   "execution_count": 6,
   "id": "63952a1a-fff5-432e-9295-702cdb8c1525",
   "metadata": {},
   "outputs": [
    {
     "name": "stdout",
     "output_type": "stream",
     "text": [
      "Requirement already satisfied: pyunpack in /usr/local/python/3.10.4/lib/python3.10/site-packages (0.3)\n",
      "Requirement already satisfied: easyprocess in /usr/local/python/3.10.4/lib/python3.10/site-packages (from pyunpack) (1.1)\n",
      "Requirement already satisfied: entrypoint2 in /usr/local/python/3.10.4/lib/python3.10/site-packages (from pyunpack) (1.1)\n"
     ]
    }
   ],
   "source": [
    "!pip install pyunpack"
   ]
  },
  {
   "cell_type": "markdown",
   "id": "de791643-f594-41eb-9fdf-0277a8a154ec",
   "metadata": {},
   "source": [
    "### Importando as bibliotecas"
   ]
  },
  {
   "cell_type": "code",
   "execution_count": 7,
   "id": "58c71009-4654-4a89-835c-d690e1315535",
   "metadata": {},
   "outputs": [],
   "source": [
    "from pyunpack import Archive"
   ]
  },
  {
   "cell_type": "markdown",
   "id": "ec61ffb1-31ad-42ab-aeef-57f84e334a84",
   "metadata": {},
   "source": [
    "### Extraindo o arquivo ml-latest-small.rar"
   ]
  },
  {
   "cell_type": "code",
   "execution_count": 8,
   "id": "51ecfb4c-e9f8-47fa-ab28-bcf6ac1f3af8",
   "metadata": {
    "tags": []
   },
   "outputs": [],
   "source": [
    "Archive('./ml-latest-small.rar').extractall('.')"
   ]
  }
 ],
 "metadata": {
  "kernelspec": {
   "display_name": "Python 3 (ipykernel)",
   "language": "python",
   "name": "python3"
  },
  "language_info": {
   "codemirror_mode": {
    "name": "ipython",
    "version": 3
   },
   "file_extension": ".py",
   "mimetype": "text/x-python",
   "name": "python",
   "nbconvert_exporter": "python",
   "pygments_lexer": "ipython3",
   "version": "3.10.4"
  }
 },
 "nbformat": 4,
 "nbformat_minor": 5
}
