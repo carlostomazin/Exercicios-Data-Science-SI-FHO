{
 "cells": [
  {
   "cell_type": "markdown",
   "id": "88104ef3-a77d-4154-b811-43ee3cfa0cc0",
   "metadata": {
    "tags": []
   },
   "source": [
    "### Instalando o pacote unrar para extrair arquivos rar no server"
   ]
  },
  {
   "cell_type": "code",
   "execution_count": null,
   "id": "884af6f8-65d1-47c0-ba17-e7a16b06c918",
   "metadata": {
    "tags": []
   },
   "outputs": [],
   "source": [
    "!sudo apt update && sudo apt install unrar -y"
   ]
  },
  {
   "cell_type": "markdown",
   "id": "8c0ade8a-7463-4e2a-a0eb-60a99d665edb",
   "metadata": {
    "tags": []
   },
   "source": [
    "### Instalando a biblioteca patool para extrair arquivos rar"
   ]
  },
  {
   "cell_type": "code",
   "execution_count": null,
   "id": "63952a1a-fff5-432e-9295-702cdb8c1525",
   "metadata": {},
   "outputs": [],
   "source": [
    "!pip install pyunpack"
   ]
  },
  {
   "cell_type": "markdown",
   "id": "de791643-f594-41eb-9fdf-0277a8a154ec",
   "metadata": {},
   "source": [
    "### Importando as bibliotecas"
   ]
  },
  {
   "cell_type": "code",
   "execution_count": null,
   "id": "58c71009-4654-4a89-835c-d690e1315535",
   "metadata": {},
   "outputs": [],
   "source": [
    "from pyunpack import Archive"
   ]
  },
  {
   "cell_type": "markdown",
   "id": "ec61ffb1-31ad-42ab-aeef-57f84e334a84",
   "metadata": {},
   "source": [
    "### Extraindo o arquivo ml-latest-small.rar"
   ]
  },
  {
   "cell_type": "code",
   "execution_count": null,
   "id": "51ecfb4c-e9f8-47fa-ab28-bcf6ac1f3af8",
   "metadata": {
    "tags": []
   },
   "outputs": [],
   "source": [
    "Archive('./ml-latest-small.rar').extractall('.')"
   ]
  }
 ],
 "metadata": {
  "kernelspec": {
   "display_name": "Python 3 (ipykernel)",
   "language": "python",
   "name": "python3"
  },
  "language_info": {
   "codemirror_mode": {
    "name": "ipython",
    "version": 3
   },
   "file_extension": ".py",
   "mimetype": "text/x-python",
   "name": "python",
   "nbconvert_exporter": "python",
   "pygments_lexer": "ipython3",
   "version": "3.10.4"
  }
 },
 "nbformat": 4,
 "nbformat_minor": 5
}
