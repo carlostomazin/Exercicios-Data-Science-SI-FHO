{
 "cells": [
  {
   "attachments": {},
   "cell_type": "markdown",
   "id": "fcff24f3",
   "metadata": {},
   "source": [
    "### Importando as bibliotecas"
   ]
  },
  {
   "cell_type": "code",
   "execution_count": null,
   "id": "58475bb3",
   "metadata": {},
   "outputs": [],
   "source": [
    "import pandas as pd\n",
    "import seaborn as sns"
   ]
  },
  {
   "attachments": {},
   "cell_type": "markdown",
   "id": "e9a4d77b",
   "metadata": {},
   "source": [
    "### Leitura do ratings.csv "
   ]
  },
  {
   "cell_type": "code",
   "execution_count": null,
   "metadata": {},
   "outputs": [],
   "source": [
    "notas = pd.read_csv(\"../collect-data/ml-latest-small/ratings.csv\")\n",
    "notas"
   ]
  },
  {
   "attachments": {},
   "cell_type": "markdown",
   "id": "65b8a219",
   "metadata": {},
   "source": [
    "### Quantidade de linhas e colunas"
   ]
  },
  {
   "cell_type": "code",
   "execution_count": null,
   "id": "821c4ed1",
   "metadata": {},
   "outputs": [],
   "source": [
    "notas.shape"
   ]
  },
  {
   "attachments": {},
   "cell_type": "markdown",
   "id": "3224612b",
   "metadata": {},
   "source": [
    "### Renomear as colunas"
   ]
  },
  {
   "cell_type": "code",
   "execution_count": null,
   "id": "717a126f",
   "metadata": {},
   "outputs": [],
   "source": [
    "notas.columns = [\"usuarioID\", \"filmeID\", \"nota\", \"momento\"]\n",
    "notas.head()"
   ]
  },
  {
   "attachments": {},
   "cell_type": "markdown",
   "id": "422a5981",
   "metadata": {},
   "source": [
    "### Valores únicos"
   ]
  },
  {
   "cell_type": "code",
   "execution_count": null,
   "id": "ab06f4d4",
   "metadata": {},
   "outputs": [],
   "source": [
    "notas[\"nota\"].unique()"
   ]
  },
  {
   "attachments": {},
   "cell_type": "markdown",
   "id": "a0012e07",
   "metadata": {},
   "source": [
    "### Vezes que cada valor de nota aparece"
   ]
  },
  {
   "cell_type": "code",
   "execution_count": null,
   "id": "635b25ba",
   "metadata": {},
   "outputs": [],
   "source": [
    "notas[\"nota\"].value_counts()"
   ]
  },
  {
   "attachments": {},
   "cell_type": "markdown",
   "id": "5bb8de40",
   "metadata": {},
   "source": [
    "### Média e mediana das notas"
   ]
  },
  {
   "cell_type": "code",
   "execution_count": null,
   "id": "37ab4e45",
   "metadata": {},
   "outputs": [],
   "source": [
    "media = notas[\"nota\"].mean()\n",
    "mediana = notas[\"nota\"].median()\n",
    "\n",
    "print(f\"Media {media} - Mediana {mediana}\")"
   ]
  },
  {
   "attachments": {},
   "cell_type": "markdown",
   "id": "efbd68d3",
   "metadata": {},
   "source": [
    "### histograma das notas:"
   ]
  },
  {
   "cell_type": "code",
   "execution_count": null,
   "id": "fd95ed21",
   "metadata": {},
   "outputs": [],
   "source": [
    "notas[\"nota\"].plot(kind=\"hist\")"
   ]
  },
  {
   "attachments": {},
   "cell_type": "markdown",
   "id": "59799a34",
   "metadata": {},
   "source": [
    "### describe notas"
   ]
  },
  {
   "cell_type": "code",
   "execution_count": null,
   "id": "ae8bd04a",
   "metadata": {},
   "outputs": [],
   "source": [
    "notas.nota.describe()"
   ]
  },
  {
   "attachments": {},
   "cell_type": "markdown",
   "id": "6bf63c4b",
   "metadata": {},
   "source": [
    "### boxplot utilizando a biblioteca seaborn"
   ]
  },
  {
   "cell_type": "code",
   "execution_count": null,
   "id": "a57a0d4b",
   "metadata": {},
   "outputs": [],
   "source": [
    "import seaborn as sns\n",
    "sns.boxplot(notas.nota)"
   ]
  },
  {
   "attachments": {},
   "cell_type": "markdown",
   "id": "56494f0f",
   "metadata": {},
   "source": [
    "### Leitura do movies.csv "
   ]
  },
  {
   "cell_type": "code",
   "execution_count": null,
   "id": "ad549404",
   "metadata": {},
   "outputs": [],
   "source": [
    "filmes = pd.read_csv(\"../collect-data/ml-latest-small/movies.csv\")\n",
    "filmes.columns = [\"filmeID\", \"titulo\", \"generos\"]\n",
    "filmes.head()"
   ]
  },
  {
   "attachments": {},
   "cell_type": "markdown",
   "id": "42e104db",
   "metadata": {},
   "source": [
    "### Notas específicas por filme"
   ]
  },
  {
   "cell_type": "code",
   "execution_count": null,
   "id": "c969cf65",
   "metadata": {},
   "outputs": [],
   "source": [
    "#media das notas do filme de id igual a 1\n",
    "notas.query(\"filmeID==1\").nota.mean()\n",
    "\n",
    "#agrupando as medias por filme\n",
    "medias_por_filme = notas.groupby(\"filmeID\").mean()[\"nota\"]\n",
    "medias_por_filme.head()\n",
    "\n",
    "medias_por_filme.plot(kind=\"hist\")\n",
    "\n",
    "#distplot é o histograma da biblioteca seaborn\n",
    "sns.distplot(medias_por_filme, bins=10) #bins é o numero de caixas"
   ]
  },
  {
   "attachments": {},
   "cell_type": "markdown",
   "id": "a8313cf8",
   "metadata": {},
   "source": [
    "### matplotlib"
   ]
  },
  {
   "cell_type": "code",
   "execution_count": 24,
   "id": "00e6488e",
   "metadata": {},
   "outputs": [
    {
     "data": {
      "text/plain": [
       "Text(0.5, 1.0, 'Histograma das médias por filmes')"
      ]
     },
     "execution_count": 24,
     "metadata": {},
     "output_type": "execute_result"
    },
    {
     "data": {
      "image/png": "[encoded data removed]",
      "text/plain": [
       "<Figure size 640x480 with 1 Axes>"
      ]
     },
     "metadata": {},
     "output_type": "display_data"
    }
   ],
   "source": [
    "import matplotlib.pyplot as plt\n",
    "plt.hist(medias_por_filme)\n",
    "plt.title(\"Histograma das médias por filmes\")"
   ]
  },
  {
   "cell_type": "code",
   "execution_count": null,
   "id": "3fed6ed6",
   "metadata": {},
   "outputs": [],
   "source": []
  }
 ],
 "metadata": {
  "kernelspec": {
   "display_name": "Python 3 (ipykernel)",
   "language": "python",
   "name": "python3"
  },
  "language_info": {
   "codemirror_mode": {
    "name": "ipython",
    "version": 3
   },
   "file_extension": ".py",
   "mimetype": "text/x-python",
   "name": "python",
   "nbconvert_exporter": "python",
   "pygments_lexer": "ipython3",
   "version": "3.10.4"
  }
 },
 "nbformat": 4,
 "nbformat_minor": 5
}
